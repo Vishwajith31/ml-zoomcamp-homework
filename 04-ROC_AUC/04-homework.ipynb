{
 "cells": [
  {
   "cell_type": "code",
   "execution_count": 1,
   "id": "1418f851-eece-4ff9-a995-5c4d30a48b93",
   "metadata": {},
   "outputs": [],
   "source": [
    "import pandas as pd\n",
    "import numpy as np\n",
    "import matplotlib.pyplot as plt\n",
    "from sklearn.model_selection import train_test_split\n",
    "from sklearn.metrics import mutual_info_score\n",
    "from sklearn.feature_extraction import DictVectorizer\n",
    "from sklearn.linear_model import LogisticRegression\n",
    "from sklearn.metrics import accuracy_score\n",
    "from sklearn.metrics import roc_curve\n",
    "from sklearn.metrics import roc_auc_score\n",
    "from sklearn.model_selection import KFold\n",
    "import random\n",
    "from sklearn.metrics import auc\n",
    "from sklearn.preprocessing import StandardScaler"
   ]
  },
  {
   "cell_type": "code",
   "execution_count": 2,
   "id": "d059a7b6-e286-4aae-b7cb-b04541ee6a1b",
   "metadata": {},
   "outputs": [],
   "source": [
    "data = 'https://raw.githubusercontent.com/alexeygrigorev/datasets/master/course_lead_scoring.csv'"
   ]
  },
  {
   "cell_type": "code",
   "execution_count": 3,
   "id": "3191c731-f6c6-43a3-a765-e67cb62100f6",
   "metadata": {},
   "outputs": [
    {
     "name": "stdout",
     "output_type": "stream",
     "text": [
      "--2025-10-16 12:45:14--  https://raw.githubusercontent.com/alexeygrigorev/datasets/master/course_lead_scoring.csv\n",
      "Resolving raw.githubusercontent.com (raw.githubusercontent.com)... 185.199.111.133, 185.199.109.133, 185.199.108.133, ...\n",
      "Connecting to raw.githubusercontent.com (raw.githubusercontent.com)|185.199.111.133|:443... connected.\n",
      "HTTP request sent, awaiting response... 200 OK\n",
      "Length: 80876 (79K) [text/plain]\n",
      "Saving to: ‘bank_marketing_data.csv’\n",
      "\n",
      "bank_marketing_data 100%[===================>]  78.98K  --.-KB/s    in 0.08s   \n",
      "\n",
      "2025-10-16 12:45:15 (1.01 MB/s) - ‘bank_marketing_data.csv’ saved [80876/80876]\n",
      "\n"
     ]
    }
   ],
   "source": [
    "!wget $data -O bank_marketing_data.csv "
   ]
  },
  {
   "cell_type": "code",
   "execution_count": 4,
   "id": "45d6b5e1-d79d-4411-951d-2ab33cace9c9",
   "metadata": {},
   "outputs": [
    {
     "data": {
      "text/html": [
       "<div>\n",
       "<style scoped>\n",
       "    .dataframe tbody tr th:only-of-type {\n",
       "        vertical-align: middle;\n",
       "    }\n",
       "\n",
       "    .dataframe tbody tr th {\n",
       "        vertical-align: top;\n",
       "    }\n",
       "\n",
       "    .dataframe thead th {\n",
       "        text-align: right;\n",
       "    }\n",
       "</style>\n",
       "<table border=\"1\" class=\"dataframe\">\n",
       "  <thead>\n",
       "    <tr style=\"text-align: right;\">\n",
       "      <th></th>\n",
       "      <th>lead_source</th>\n",
       "      <th>industry</th>\n",
       "      <th>number_of_courses_viewed</th>\n",
       "      <th>annual_income</th>\n",
       "      <th>employment_status</th>\n",
       "      <th>location</th>\n",
       "      <th>interaction_count</th>\n",
       "      <th>lead_score</th>\n",
       "      <th>converted</th>\n",
       "    </tr>\n",
       "  </thead>\n",
       "  <tbody>\n",
       "    <tr>\n",
       "      <th>0</th>\n",
       "      <td>paid_ads</td>\n",
       "      <td>NaN</td>\n",
       "      <td>1</td>\n",
       "      <td>79450.0</td>\n",
       "      <td>unemployed</td>\n",
       "      <td>south_america</td>\n",
       "      <td>4</td>\n",
       "      <td>0.94</td>\n",
       "      <td>1</td>\n",
       "    </tr>\n",
       "    <tr>\n",
       "      <th>1</th>\n",
       "      <td>social_media</td>\n",
       "      <td>retail</td>\n",
       "      <td>1</td>\n",
       "      <td>46992.0</td>\n",
       "      <td>employed</td>\n",
       "      <td>south_america</td>\n",
       "      <td>1</td>\n",
       "      <td>0.80</td>\n",
       "      <td>0</td>\n",
       "    </tr>\n",
       "    <tr>\n",
       "      <th>2</th>\n",
       "      <td>events</td>\n",
       "      <td>healthcare</td>\n",
       "      <td>5</td>\n",
       "      <td>78796.0</td>\n",
       "      <td>unemployed</td>\n",
       "      <td>australia</td>\n",
       "      <td>3</td>\n",
       "      <td>0.69</td>\n",
       "      <td>1</td>\n",
       "    </tr>\n",
       "    <tr>\n",
       "      <th>3</th>\n",
       "      <td>paid_ads</td>\n",
       "      <td>retail</td>\n",
       "      <td>2</td>\n",
       "      <td>83843.0</td>\n",
       "      <td>NaN</td>\n",
       "      <td>australia</td>\n",
       "      <td>1</td>\n",
       "      <td>0.87</td>\n",
       "      <td>0</td>\n",
       "    </tr>\n",
       "    <tr>\n",
       "      <th>4</th>\n",
       "      <td>referral</td>\n",
       "      <td>education</td>\n",
       "      <td>3</td>\n",
       "      <td>85012.0</td>\n",
       "      <td>self_employed</td>\n",
       "      <td>europe</td>\n",
       "      <td>3</td>\n",
       "      <td>0.62</td>\n",
       "      <td>1</td>\n",
       "    </tr>\n",
       "  </tbody>\n",
       "</table>\n",
       "</div>"
      ],
      "text/plain": [
       "    lead_source    industry  number_of_courses_viewed  annual_income  \\\n",
       "0      paid_ads         NaN                         1        79450.0   \n",
       "1  social_media      retail                         1        46992.0   \n",
       "2        events  healthcare                         5        78796.0   \n",
       "3      paid_ads      retail                         2        83843.0   \n",
       "4      referral   education                         3        85012.0   \n",
       "\n",
       "  employment_status       location  interaction_count  lead_score  converted  \n",
       "0        unemployed  south_america                  4        0.94          1  \n",
       "1          employed  south_america                  1        0.80          0  \n",
       "2        unemployed      australia                  3        0.69          1  \n",
       "3               NaN      australia                  1        0.87          0  \n",
       "4     self_employed         europe                  3        0.62          1  "
      ]
     },
     "execution_count": 4,
     "metadata": {},
     "output_type": "execute_result"
    }
   ],
   "source": [
    "df = pd.read_csv('bank_marketing_data.csv')\n",
    "df.head()"
   ]
  },
  {
   "cell_type": "markdown",
   "id": "16fccc03-f000-4eec-b455-2e43914ff22b",
   "metadata": {},
   "source": [
    "# Data Preparation"
   ]
  },
  {
   "cell_type": "code",
   "execution_count": 5,
   "id": "0260710b-46a2-4971-89e1-9596f3a8d3b0",
   "metadata": {},
   "outputs": [],
   "source": [
    "categorical = ['lead_source', 'industry', 'employment_status', 'location']\n",
    "numerical = ['number_of_courses_viewed', 'annual_income', 'lead_score', 'interaction_count']"
   ]
  },
  {
   "cell_type": "code",
   "execution_count": 6,
   "id": "82fa41c5-d5d8-4dc2-b5e4-244c390f8655",
   "metadata": {},
   "outputs": [],
   "source": [
    "for c in categorical:\n",
    "    df[c] = df[c].fillna('NA')\n",
    "df['annual_income'] = df['annual_income'].fillna(0.0)    "
   ]
  },
  {
   "cell_type": "code",
   "execution_count": 7,
   "id": "b9ab4d50-bfaf-438e-b4fc-a3b9975defc9",
   "metadata": {},
   "outputs": [
    {
     "name": "stdout",
     "output_type": "stream",
     "text": [
      "1462 1169 293\n",
      "876 293\n"
     ]
    }
   ],
   "source": [
    "df_full_train, df_test = train_test_split(df, test_size=0.2, random_state=1)\n",
    "print(len(df), len(df_full_train), len(df_test))\n",
    "\n",
    "df_train, df_val = train_test_split(df_full_train, test_size=0.25, random_state=1)\n",
    "print(len(df_train), len(df_val))\n",
    "\n",
    "df_train = df_train.reset_index(drop=True)\n",
    "df_val = df_val.reset_index(drop=True)\n",
    "df_test = df_test.reset_index(drop=True)\n",
    "\n",
    "y_train = df_train.converted.values\n",
    "y_val = df_val.converted.values\n",
    "y_test = df_test.converted.values\n",
    "\n",
    "del df_train['converted']\n",
    "del df_val['converted']\n",
    "del df_test['converted']"
   ]
  },
  {
   "cell_type": "markdown",
   "id": "45c9e731-9895-4b73-a425-a4e05e38f586",
   "metadata": {},
   "source": [
    "# Question 1: ROC AUC feature importance\n",
    "ROC AUC could also be used to evaluate feature importance of numerical variables.\n",
    "\n",
    "Let's do that\n",
    "\n",
    "For each numerical variable, use it as score (aka prediction) and compute the AUC with the y variable as ground truth.\n",
    "Use the training dataset for that\n",
    "If your AUC is < 0.5, invert this variable by putting \"-\" in front\n",
    "\n",
    "(e.g. -df_train['balance'])\n",
    "\n",
    "AUC can go below 0.5 if the variable is negatively correlated with the target variable. You can change the direction of the correlation by negating this variable - then negative correlation becomes positive.\n",
    "\n",
    "Which numerical variable (among the following 4) has the highest AUC?\n",
    "\n",
    "- lead_score\n",
    "- number_of_courses_viewed\n",
    "- interaction_count\n",
    "- annual_income"
   ]
  },
  {
   "cell_type": "code",
   "execution_count": 8,
   "id": "c72cc9a0-cd5d-473a-8fa1-c37d5a7bcb52",
   "metadata": {},
   "outputs": [
    {
     "name": "stdout",
     "output_type": "stream",
     "text": [
      "number_of_courses_viewed: AUC = 0.7636\n",
      "annual_income: AUC = 0.5520\n",
      "lead_score: AUC = 0.6145\n",
      "interaction_count: AUC = 0.7383\n"
     ]
    }
   ],
   "source": [
    "for feature in numerical:\n",
    "    predictions = df_train[feature].values\n",
    "    auc = roc_auc_score(y_train, predictions)\n",
    "\n",
    "    if auc < 0.5:\n",
    "        auc = roc_auc_score(y_train, -predictions)\n",
    "        print(f'{feature}: AUC = {auc:.4f} (inverted)')\n",
    "    else:\n",
    "        print(f'{feature}: AUC = {auc:.4f}')"
   ]
  },
  {
   "cell_type": "markdown",
   "id": "f1bac53a-17fd-4420-938b-b4ca252edcfd",
   "metadata": {},
   "source": [
    "# Question 2: Training the model\n",
    "Apply one-hot-encoding using DictVectorizer and train the logistic regression with these parameters:"
   ]
  },
  {
   "cell_type": "code",
   "execution_count": 9,
   "id": "ebce49f3-0ea0-4b63-b431-19f09498036d",
   "metadata": {},
   "outputs": [],
   "source": [
    "scaler = StandardScaler()"
   ]
  },
  {
   "cell_type": "code",
   "execution_count": 10,
   "id": "a8d7ea6d-ca54-453d-842b-fe3ee6e06268",
   "metadata": {},
   "outputs": [],
   "source": [
    "def train(df_train, y_train, C=1.0):\n",
    "    train_dicts = df_train[categorical + numerical].to_dict(orient='records')\n",
    "    dv = DictVectorizer(sparse=False)\n",
    "    \n",
    "    X_train = dv.fit_transform(train_dicts)\n",
    "    X_train = scaler.fit_transform(X_train)\n",
    "    model = LogisticRegression(solver='liblinear', C=C, max_iter=1000)\n",
    "    model.fit(X_train, y_train)\n",
    "\n",
    "    return dv, model"
   ]
  },
  {
   "cell_type": "code",
   "execution_count": 11,
   "id": "85945bb4-582b-4a21-b6b0-0d0d4344292a",
   "metadata": {},
   "outputs": [],
   "source": [
    "def predict(df, dv, model):\n",
    "    dicts = df[categorical + numerical].to_dict(orient='records')\n",
    "\n",
    "    X = dv.transform(dicts)\n",
    "    X = scaler.transform(X)\n",
    "\n",
    "    y_pred = model.predict_proba(X)[:, 1]\n",
    "    return y_pred"
   ]
  },
  {
   "cell_type": "code",
   "execution_count": 12,
   "id": "3d661ec3-7f1d-46e4-a2e0-daf572424a05",
   "metadata": {},
   "outputs": [
    {
     "name": "stdout",
     "output_type": "stream",
     "text": [
      "0.921\n"
     ]
    }
   ],
   "source": [
    "dv, model = train(df_train, y_train)\n",
    "y_pred = predict(df_val, dv, model)\n",
    "auc = roc_auc_score(y_val, y_pred)\n",
    "print(round(auc, 3))"
   ]
  },
  {
   "cell_type": "markdown",
   "id": "5feeb4c5-df85-48ef-88e3-104178ba6292",
   "metadata": {},
   "source": [
    "\n",
    "# Question 3: Precision and Recall\n",
    "Now let's compute precision and recall for our model.\n",
    "\n",
    "- Evaluate the model on all thresholds from 0.0 to 1.0 with step 0.01\n",
    "- For each threshold, compute precision and recall\n",
    "- Plot them\n",
    "  \n",
    "At which threshold precision and recall curves intersect?\n",
    "\n",
    "- 0.145\n",
    "- 0.345\n",
    "- 0.545\n",
    "- 0.745\n",
    "\n",
    "# Question 4: F1 score\n",
    "Precision and recall are conflicting - when one grows, the other goes down. That's why they are often combined into the F1 score - a metrics that takes into account both\n",
    "\n",
    "Let's compute F1 for all thresholds from 0.0 to 1.0 with increment 0.01\n",
    "\n",
    "At which threshold F1 is maximal?\n",
    "\n",
    "- 0.14\n",
    "- 0.34\n",
    "- 0.54\n",
    "- 0.74"
   ]
  },
  {
   "cell_type": "code",
   "execution_count": 13,
   "id": "bf1973be-ecc3-4e71-aefb-961c89f75bc4",
   "metadata": {},
   "outputs": [],
   "source": [
    "def tpr_fpr_dataframe(y_val, y_pred):\n",
    "    scores = []\n",
    "\n",
    "    thresholds = np.linspace(0, 1, 101)\n",
    "    \n",
    "    for t in thresholds:\n",
    "        actual_positive = (y_val == 1)\n",
    "        actual_negative = (y_val == 0)\n",
    "    \n",
    "        predict_positive = (y_pred >= t)\n",
    "        predict_negative = (y_pred < t)\n",
    "    \n",
    "        tp = (predict_positive & actual_positive).sum()\n",
    "        tn = (predict_negative & actual_negative).sum()\n",
    "    \n",
    "        fp = (predict_positive & actual_negative).sum()\n",
    "        fn = (predict_negative & actual_positive).sum()\n",
    "\n",
    "        scores.append((t, tp, fp, fn, tn))\n",
    "        \n",
    "    columns = ['threshold', 'tp', 'fp', 'fn', 'tn']\n",
    "    df_scores = pd.DataFrame(scores, columns=columns)   \n",
    "\n",
    "    df_scores['tpr'] = df_scores.tp / (df_scores.tp + df_scores.fn)\n",
    "    df_scores['fpr'] = df_scores.fp / (df_scores.fp + df_scores.tn)\n",
    "\n",
    "    df_scores['precision'] = df_scores.tp / (df_scores.tp + df_scores.fp)\n",
    "    df_scores['recall'] = df_scores.tp / (df_scores.tp + df_scores.fn)\n",
    "\n",
    "    df_scores['f1_score'] = 2 * ((df_scores.precision) * (df_scores.recall)) / ((df_scores.precision) + (df_scores.recall))\n",
    "\n",
    "    return df_scores"
   ]
  },
  {
   "cell_type": "code",
   "execution_count": 14,
   "id": "2350df54-5418-4a1f-b678-d776cbd710b0",
   "metadata": {},
   "outputs": [
    {
     "data": {
      "text/html": [
       "<div>\n",
       "<style scoped>\n",
       "    .dataframe tbody tr th:only-of-type {\n",
       "        vertical-align: middle;\n",
       "    }\n",
       "\n",
       "    .dataframe tbody tr th {\n",
       "        vertical-align: top;\n",
       "    }\n",
       "\n",
       "    .dataframe thead th {\n",
       "        text-align: right;\n",
       "    }\n",
       "</style>\n",
       "<table border=\"1\" class=\"dataframe\">\n",
       "  <thead>\n",
       "    <tr style=\"text-align: right;\">\n",
       "      <th></th>\n",
       "      <th>threshold</th>\n",
       "      <th>tp</th>\n",
       "      <th>fp</th>\n",
       "      <th>fn</th>\n",
       "      <th>tn</th>\n",
       "      <th>tpr</th>\n",
       "      <th>fpr</th>\n",
       "      <th>precision</th>\n",
       "      <th>recall</th>\n",
       "      <th>f1_score</th>\n",
       "    </tr>\n",
       "  </thead>\n",
       "  <tbody>\n",
       "    <tr>\n",
       "      <th>0</th>\n",
       "      <td>0.0</td>\n",
       "      <td>171</td>\n",
       "      <td>122</td>\n",
       "      <td>0</td>\n",
       "      <td>0</td>\n",
       "      <td>1.000000</td>\n",
       "      <td>1.000000</td>\n",
       "      <td>0.583618</td>\n",
       "      <td>1.000000</td>\n",
       "      <td>0.737069</td>\n",
       "    </tr>\n",
       "    <tr>\n",
       "      <th>10</th>\n",
       "      <td>0.1</td>\n",
       "      <td>168</td>\n",
       "      <td>92</td>\n",
       "      <td>3</td>\n",
       "      <td>30</td>\n",
       "      <td>0.982456</td>\n",
       "      <td>0.754098</td>\n",
       "      <td>0.646154</td>\n",
       "      <td>0.982456</td>\n",
       "      <td>0.779582</td>\n",
       "    </tr>\n",
       "    <tr>\n",
       "      <th>20</th>\n",
       "      <td>0.2</td>\n",
       "      <td>165</td>\n",
       "      <td>63</td>\n",
       "      <td>6</td>\n",
       "      <td>59</td>\n",
       "      <td>0.964912</td>\n",
       "      <td>0.516393</td>\n",
       "      <td>0.723684</td>\n",
       "      <td>0.964912</td>\n",
       "      <td>0.827068</td>\n",
       "    </tr>\n",
       "    <tr>\n",
       "      <th>30</th>\n",
       "      <td>0.3</td>\n",
       "      <td>163</td>\n",
       "      <td>48</td>\n",
       "      <td>8</td>\n",
       "      <td>74</td>\n",
       "      <td>0.953216</td>\n",
       "      <td>0.393443</td>\n",
       "      <td>0.772512</td>\n",
       "      <td>0.953216</td>\n",
       "      <td>0.853403</td>\n",
       "    </tr>\n",
       "    <tr>\n",
       "      <th>40</th>\n",
       "      <td>0.4</td>\n",
       "      <td>156</td>\n",
       "      <td>33</td>\n",
       "      <td>15</td>\n",
       "      <td>89</td>\n",
       "      <td>0.912281</td>\n",
       "      <td>0.270492</td>\n",
       "      <td>0.825397</td>\n",
       "      <td>0.912281</td>\n",
       "      <td>0.866667</td>\n",
       "    </tr>\n",
       "    <tr>\n",
       "      <th>50</th>\n",
       "      <td>0.5</td>\n",
       "      <td>152</td>\n",
       "      <td>26</td>\n",
       "      <td>19</td>\n",
       "      <td>96</td>\n",
       "      <td>0.888889</td>\n",
       "      <td>0.213115</td>\n",
       "      <td>0.853933</td>\n",
       "      <td>0.888889</td>\n",
       "      <td>0.871060</td>\n",
       "    </tr>\n",
       "    <tr>\n",
       "      <th>60</th>\n",
       "      <td>0.6</td>\n",
       "      <td>142</td>\n",
       "      <td>16</td>\n",
       "      <td>29</td>\n",
       "      <td>106</td>\n",
       "      <td>0.830409</td>\n",
       "      <td>0.131148</td>\n",
       "      <td>0.898734</td>\n",
       "      <td>0.830409</td>\n",
       "      <td>0.863222</td>\n",
       "    </tr>\n",
       "    <tr>\n",
       "      <th>70</th>\n",
       "      <td>0.7</td>\n",
       "      <td>136</td>\n",
       "      <td>10</td>\n",
       "      <td>35</td>\n",
       "      <td>112</td>\n",
       "      <td>0.795322</td>\n",
       "      <td>0.081967</td>\n",
       "      <td>0.931507</td>\n",
       "      <td>0.795322</td>\n",
       "      <td>0.858044</td>\n",
       "    </tr>\n",
       "    <tr>\n",
       "      <th>80</th>\n",
       "      <td>0.8</td>\n",
       "      <td>128</td>\n",
       "      <td>7</td>\n",
       "      <td>43</td>\n",
       "      <td>115</td>\n",
       "      <td>0.748538</td>\n",
       "      <td>0.057377</td>\n",
       "      <td>0.948148</td>\n",
       "      <td>0.748538</td>\n",
       "      <td>0.836601</td>\n",
       "    </tr>\n",
       "    <tr>\n",
       "      <th>90</th>\n",
       "      <td>0.9</td>\n",
       "      <td>99</td>\n",
       "      <td>5</td>\n",
       "      <td>72</td>\n",
       "      <td>117</td>\n",
       "      <td>0.578947</td>\n",
       "      <td>0.040984</td>\n",
       "      <td>0.951923</td>\n",
       "      <td>0.578947</td>\n",
       "      <td>0.720000</td>\n",
       "    </tr>\n",
       "    <tr>\n",
       "      <th>100</th>\n",
       "      <td>1.0</td>\n",
       "      <td>0</td>\n",
       "      <td>0</td>\n",
       "      <td>171</td>\n",
       "      <td>122</td>\n",
       "      <td>0.000000</td>\n",
       "      <td>0.000000</td>\n",
       "      <td>NaN</td>\n",
       "      <td>0.000000</td>\n",
       "      <td>NaN</td>\n",
       "    </tr>\n",
       "  </tbody>\n",
       "</table>\n",
       "</div>"
      ],
      "text/plain": [
       "     threshold   tp   fp   fn   tn       tpr       fpr  precision    recall  \\\n",
       "0          0.0  171  122    0    0  1.000000  1.000000   0.583618  1.000000   \n",
       "10         0.1  168   92    3   30  0.982456  0.754098   0.646154  0.982456   \n",
       "20         0.2  165   63    6   59  0.964912  0.516393   0.723684  0.964912   \n",
       "30         0.3  163   48    8   74  0.953216  0.393443   0.772512  0.953216   \n",
       "40         0.4  156   33   15   89  0.912281  0.270492   0.825397  0.912281   \n",
       "50         0.5  152   26   19   96  0.888889  0.213115   0.853933  0.888889   \n",
       "60         0.6  142   16   29  106  0.830409  0.131148   0.898734  0.830409   \n",
       "70         0.7  136   10   35  112  0.795322  0.081967   0.931507  0.795322   \n",
       "80         0.8  128    7   43  115  0.748538  0.057377   0.948148  0.748538   \n",
       "90         0.9   99    5   72  117  0.578947  0.040984   0.951923  0.578947   \n",
       "100        1.0    0    0  171  122  0.000000  0.000000        NaN  0.000000   \n",
       "\n",
       "     f1_score  \n",
       "0    0.737069  \n",
       "10   0.779582  \n",
       "20   0.827068  \n",
       "30   0.853403  \n",
       "40   0.866667  \n",
       "50   0.871060  \n",
       "60   0.863222  \n",
       "70   0.858044  \n",
       "80   0.836601  \n",
       "90   0.720000  \n",
       "100       NaN  "
      ]
     },
     "execution_count": 14,
     "metadata": {},
     "output_type": "execute_result"
    }
   ],
   "source": [
    "df_values = tpr_fpr_dataframe(y_val, y_pred)\n",
    "df_values.iloc[::10]"
   ]
  },
  {
   "cell_type": "code",
   "execution_count": 15,
   "id": "608bd118-8b3f-4303-a9c8-1617f15daec6",
   "metadata": {},
   "outputs": [
    {
     "data": {
      "image/png": "[encoded data removed]",
      "text/plain": [
       "<Figure size 640x480 with 1 Axes>"
      ]
     },
     "metadata": {},
     "output_type": "display_data"
    }
   ],
   "source": [
    "plt.plot(df_values['threshold'], df_values['precision'], label='Precision')\n",
    "plt.plot(df_values['threshold'], df_values['recall'], label='Recall')\n",
    "plt.legend()\n",
    "plt.show()"
   ]
  },
  {
   "cell_type": "code",
   "execution_count": 16,
   "id": "db0233f8-51f0-4617-8e23-b53c6ec57e33",
   "metadata": {},
   "outputs": [
    {
     "name": "stdout",
     "output_type": "stream",
     "text": [
      "Threshold at intersection: 0.520\n",
      "Precision at intersection: 0.876\n",
      "Recall at intersection: 0.871\n",
      "\n",
      "Rows around intersection:\n",
      "    threshold  precision    recall      diff\n",
      "50       0.50   0.853933  0.888889  0.034956\n",
      "51       0.51   0.872832  0.883041  0.010209\n",
      "52       0.52   0.876471  0.871345  0.005126\n",
      "53       0.53   0.876471  0.871345  0.005126\n",
      "54       0.54   0.879518  0.853801  0.025717\n"
     ]
    }
   ],
   "source": [
    "# Find intersection point\n",
    "df_values['diff'] = np.abs(df_values['precision'] - df_values['recall'])\n",
    "intersection_idx = df_values['diff'].idxmin()\n",
    "intersection_threshold = df_values.loc[intersection_idx, 'threshold']\n",
    "\n",
    "print(f\"Threshold at intersection: {intersection_threshold:.3f}\")\n",
    "print(f\"Precision at intersection: {df_values.loc[intersection_idx, 'precision']:.3f}\")\n",
    "print(f\"Recall at intersection: {df_values.loc[intersection_idx, 'recall']:.3f}\")\n",
    "\n",
    "# You can also look at a few rows around the intersection\n",
    "print(\"\\nRows around intersection:\")\n",
    "print(df_values.iloc[intersection_idx-2:intersection_idx+3][['threshold', 'precision', 'recall', 'diff']])"
   ]
  },
  {
   "cell_type": "code",
   "execution_count": 17,
   "id": "d853e7dd-3fe8-478f-b732-9bff9905d0c1",
   "metadata": {},
   "outputs": [
    {
     "name": "stdout",
     "output_type": "stream",
     "text": [
      "51\n"
     ]
    },
    {
     "data": {
      "text/plain": [
       "threshold      0.510000\n",
       "tp           151.000000\n",
       "fp            22.000000\n",
       "fn            20.000000\n",
       "tn           100.000000\n",
       "tpr            0.883041\n",
       "fpr            0.180328\n",
       "precision      0.872832\n",
       "recall         0.883041\n",
       "f1_score       0.877907\n",
       "diff           0.010209\n",
       "Name: 51, dtype: float64"
      ]
     },
     "execution_count": 17,
     "metadata": {},
     "output_type": "execute_result"
    }
   ],
   "source": [
    "max_idx = df_values['f1_score'].idxmax()\n",
    "print(max_idx)\n",
    "df_values.iloc[max_idx]"
   ]
  },
  {
   "cell_type": "markdown",
   "id": "c7052583-59ab-4780-8a2c-7b2b612c35bf",
   "metadata": {},
   "source": [
    "# Question 5: 5-Fold CV\n",
    "Use the KFold class from Scikit-Learn to evaluate our model on 5 different folds:\n",
    "\n",
    "KFold(n_splits=5, shuffle=True, random_state=1)\n",
    "\n",
    "- Iterate over different folds of df_full_train\n",
    "- Split the data into train and validation\n",
    "- Train the model on train with these parameters: LogisticRegression(solver='liblinear', C=1.0, max_iter=1000)\n",
    "- Use AUC to evaluate the model on validation\n",
    "\n",
    "How large is standard deviation of the scores across different folds?\n",
    "\n",
    "- 0.0001\n",
    "- 0.006\n",
    "- 0.06\n",
    "- 0.36"
   ]
  },
  {
   "cell_type": "code",
   "execution_count": 18,
   "id": "3722106c-8fac-431c-bd72-0f937c4ab1e8",
   "metadata": {},
   "outputs": [
    {
     "name": "stdout",
     "output_type": "stream",
     "text": [
      "Requirement already satisfied: tqdm in /usr/local/python/3.12.1/lib/python3.12/site-packages (4.67.1)\n",
      "\n",
      "\u001b[1m[\u001b[0m\u001b[34;49mnotice\u001b[0m\u001b[1;39;49m]\u001b[0m\u001b[39;49m A new release of pip is available: \u001b[0m\u001b[31;49m25.1.1\u001b[0m\u001b[39;49m -> \u001b[0m\u001b[32;49m25.2\u001b[0m\n",
      "\u001b[1m[\u001b[0m\u001b[34;49mnotice\u001b[0m\u001b[1;39;49m]\u001b[0m\u001b[39;49m To update, run: \u001b[0m\u001b[32;49mpython3 -m pip install --upgrade pip\u001b[0m\n"
     ]
    }
   ],
   "source": [
    "!pip install tqdm"
   ]
  },
  {
   "cell_type": "code",
   "execution_count": 19,
   "id": "369007ae-6618-41d6-aa0d-15fd7e0c9a8a",
   "metadata": {},
   "outputs": [],
   "source": [
    "from tqdm.auto import tqdm"
   ]
  },
  {
   "cell_type": "code",
   "execution_count": 20,
   "id": "e22f015d-e3bf-4c61-b97c-5bd948c46336",
   "metadata": {},
   "outputs": [
    {
     "name": "stdout",
     "output_type": "stream",
     "text": [
      "Fold 1: AUC = 0.921\n",
      "0.921 +- 0.000\n",
      "Fold 2: AUC = 0.932\n",
      "0.926 +- 0.005\n",
      "Fold 3: AUC = 0.906\n",
      "0.920 +- 0.011\n",
      "Fold 4: AUC = 0.910\n",
      "0.917 +- 0.010\n",
      "Fold 5: AUC = 0.931\n",
      "0.920 +- 0.010\n"
     ]
    }
   ],
   "source": [
    "n_splits = 5\n",
    "\n",
    "scores = []\n",
    "kfold = KFold(n_splits=n_splits, shuffle=True, random_state=1)\n",
    "\n",
    "for train_idx, val_idx in kfold.split(df_full_train):\n",
    "    df_train = df_full_train.iloc[train_idx]\n",
    "    df_val = df_full_train.iloc[val_idx]\n",
    "    y_train = df_full_train['converted'].iloc[train_idx].values\n",
    "    y_val = df_full_train['converted'].iloc[val_idx].values\n",
    "\n",
    "    dv, model = train(df_train, y_train)\n",
    "    y_pred = predict(df_val, dv, model)\n",
    "    auc = roc_auc_score(y_val, y_pred)\n",
    "    scores.append(auc)\n",
    "    print(f'Fold {len(scores)}: AUC = {auc:.3f}')\n",
    "\n",
    "    print('%.3f +- %.3f' % (np.mean(scores), np.std(scores)))     "
   ]
  },
  {
   "cell_type": "code",
   "execution_count": 21,
   "id": "d8580cb2-b36c-4c40-a083-48ed0e5b3261",
   "metadata": {},
   "outputs": [
    {
     "name": "stdout",
     "output_type": "stream",
     "text": [
      "\n",
      "All scores: [0.921, 0.932, 0.906, 0.91, 0.931]\n",
      "Mean AUC: 0.920\n",
      "Standard deviation: 0.010\n"
     ]
    }
   ],
   "source": [
    "print(f'\\nAll scores: {[round(s, 3) for s in scores]}')\n",
    "print(f'Mean AUC: {np.mean(scores):.3f}')\n",
    "print(f'Standard deviation: {np.std(scores):.3f}')"
   ]
  },
  {
   "cell_type": "markdown",
   "id": "a7e48049-ae8c-44e8-8f1a-fbb480b9d956",
   "metadata": {},
   "source": [
    "# Question 6: Hyperparameter Tuning\n",
    "Now let's use 5-Fold cross-validation to find the best parameter C\n",
    "\n",
    "- Iterate over the following C values: [0.000001, 0.001, 1]\n",
    "- Initialize KFold with the same parameters as previously\n",
    "- Use these parameters for the model: LogisticRegression(solver='liblinear', C=C, max_iter=1000)\n",
    "- Compute the mean score as well as the std (round the mean and std to 3 decimal digits)\n",
    "\n",
    "Which C leads to the best mean score?\n",
    "\n",
    "- 0.000001\n",
    "- 0.001\n",
    "- 1"
   ]
  },
  {
   "cell_type": "code",
   "execution_count": 22,
   "id": "1c015a19-29c0-4e4d-a8c7-e9114ac88740",
   "metadata": {},
   "outputs": [
    {
     "data": {
      "application/vnd.jupyter.widget-view+json": {
       "model_id": "55d525783cb642279313fe0a64f90ceb",
       "version_major": 2,
       "version_minor": 0
      },
      "text/plain": [
       "  0%|          | 0/3 [00:00<?, ?it/s]"
      ]
     },
     "metadata": {},
     "output_type": "display_data"
    },
    {
     "name": "stdout",
     "output_type": "stream",
     "text": [
      "Fold 1: AUC = 0.906\n",
      "Fold 2: AUC = 0.916\n",
      "Fold 3: AUC = 0.891\n",
      "Fold 4: AUC = 0.910\n",
      "Fold 5: AUC = 0.912\n",
      "C=1e-06 0.907 +- 0.009\n",
      "Fold 1: AUC = 0.911\n",
      "Fold 2: AUC = 0.920\n",
      "Fold 3: AUC = 0.895\n",
      "Fold 4: AUC = 0.914\n",
      "Fold 5: AUC = 0.916\n",
      "C=0.001 0.911 +- 0.009\n",
      "Fold 1: AUC = 0.921\n",
      "Fold 2: AUC = 0.932\n",
      "Fold 3: AUC = 0.906\n",
      "Fold 4: AUC = 0.910\n",
      "Fold 5: AUC = 0.931\n",
      "C=1 0.920 +- 0.010\n"
     ]
    }
   ],
   "source": [
    "n_splits = 5\n",
    "\n",
    "for C in tqdm([0.000001, 0.001, 1]):\n",
    "\n",
    "    scores = []\n",
    "    kfold = KFold(n_splits=n_splits, shuffle=True, random_state=1)\n",
    "    \n",
    "    for train_idx, val_idx in kfold.split(df_full_train):\n",
    "        df_train = df_full_train.iloc[train_idx]\n",
    "        df_val = df_full_train.iloc[val_idx]\n",
    "        y_train = df_full_train['converted'].iloc[train_idx].values\n",
    "        y_val = df_full_train['converted'].iloc[val_idx].values\n",
    "    \n",
    "        dv, model = train(df_train, y_train, C=C)\n",
    "        y_pred = predict(df_val, dv, model)\n",
    "        auc = roc_auc_score(y_val, y_pred)\n",
    "        scores.append(auc)\n",
    "        print(f'Fold {len(scores)}: AUC = {auc:.3f}')\n",
    "    \n",
    "    print('C=%s %.3f +- %.3f' % (C, np.mean(scores), np.std(scores)))  "
   ]
  },
  {
   "cell_type": "code",
   "execution_count": null,
   "id": "2f4247bc-a173-4555-b390-194ea276d3f5",
   "metadata": {},
   "outputs": [],
   "source": []
  }
 ],
 "metadata": {
  "kernelspec": {
   "display_name": "Python 3 (ipykernel)",
   "language": "python",
   "name": "python3"
  },
  "language_info": {
   "codemirror_mode": {
    "name": "ipython",
    "version": 3
   },
   "file_extension": ".py",
   "mimetype": "text/x-python",
   "name": "python",
   "nbconvert_exporter": "python",
   "pygments_lexer": "ipython3",
   "version": "3.12.1"
  }
 },
 "nbformat": 4,
 "nbformat_minor": 5
}
